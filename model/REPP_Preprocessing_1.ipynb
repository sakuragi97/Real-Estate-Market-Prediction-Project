{
 "cells": [
  {
   "cell_type": "markdown",
   "metadata": {
    "collapsed": true,
    "pycharm": {
     "name": "#%% md\n"
    }
   },
   "source": [
    "# Real Estate Price Prediction Project\n",
    "## Preprocessing 1\n",
    "### Import libraries"
   ]
  },
  {
   "cell_type": "code",
   "execution_count": 304,
   "outputs": [],
   "source": [
    "import pandas as pd\n",
    "import matplotlib.pyplot as plt\n",
    "%matplotlib inline\n",
    "import seaborn as sns"
   ],
   "metadata": {
    "collapsed": false,
    "pycharm": {
     "name": "#%%\n"
    }
   }
  },
  {
   "cell_type": "code",
   "execution_count": 305,
   "outputs": [
    {
     "name": "stdout",
     "output_type": "stream",
     "text": [
      "(13320, 9)\n"
     ]
    },
    {
     "data": {
      "text/plain": "              area_type   availability                  location       size  \\\n0  Super built-up  Area         19-Dec  Electronic City Phase II      2 BHK   \n1            Plot  Area  Ready To Move          Chikka Tirupathi  4 Bedroom   \n2        Built-up  Area  Ready To Move               Uttarahalli      3 BHK   \n3  Super built-up  Area  Ready To Move        Lingadheeranahalli      3 BHK   \n4  Super built-up  Area  Ready To Move                  Kothanur      2 BHK   \n\n   society total_sqft  bath  balcony   price  \n0  Coomee        1056   2.0      1.0   39.07  \n1  Theanmp       2600   5.0      3.0  120.00  \n2      NaN       1440   2.0      3.0   62.00  \n3  Soiewre       1521   3.0      1.0   95.00  \n4      NaN       1200   2.0      1.0   51.00  ",
      "text/html": "<div>\n<style scoped>\n    .dataframe tbody tr th:only-of-type {\n        vertical-align: middle;\n    }\n\n    .dataframe tbody tr th {\n        vertical-align: top;\n    }\n\n    .dataframe thead th {\n        text-align: right;\n    }\n</style>\n<table border=\"1\" class=\"dataframe\">\n  <thead>\n    <tr style=\"text-align: right;\">\n      <th></th>\n      <th>area_type</th>\n      <th>availability</th>\n      <th>location</th>\n      <th>size</th>\n      <th>society</th>\n      <th>total_sqft</th>\n      <th>bath</th>\n      <th>balcony</th>\n      <th>price</th>\n    </tr>\n  </thead>\n  <tbody>\n    <tr>\n      <th>0</th>\n      <td>Super built-up  Area</td>\n      <td>19-Dec</td>\n      <td>Electronic City Phase II</td>\n      <td>2 BHK</td>\n      <td>Coomee</td>\n      <td>1056</td>\n      <td>2.0</td>\n      <td>1.0</td>\n      <td>39.07</td>\n    </tr>\n    <tr>\n      <th>1</th>\n      <td>Plot  Area</td>\n      <td>Ready To Move</td>\n      <td>Chikka Tirupathi</td>\n      <td>4 Bedroom</td>\n      <td>Theanmp</td>\n      <td>2600</td>\n      <td>5.0</td>\n      <td>3.0</td>\n      <td>120.00</td>\n    </tr>\n    <tr>\n      <th>2</th>\n      <td>Built-up  Area</td>\n      <td>Ready To Move</td>\n      <td>Uttarahalli</td>\n      <td>3 BHK</td>\n      <td>NaN</td>\n      <td>1440</td>\n      <td>2.0</td>\n      <td>3.0</td>\n      <td>62.00</td>\n    </tr>\n    <tr>\n      <th>3</th>\n      <td>Super built-up  Area</td>\n      <td>Ready To Move</td>\n      <td>Lingadheeranahalli</td>\n      <td>3 BHK</td>\n      <td>Soiewre</td>\n      <td>1521</td>\n      <td>3.0</td>\n      <td>1.0</td>\n      <td>95.00</td>\n    </tr>\n    <tr>\n      <th>4</th>\n      <td>Super built-up  Area</td>\n      <td>Ready To Move</td>\n      <td>Kothanur</td>\n      <td>2 BHK</td>\n      <td>NaN</td>\n      <td>1200</td>\n      <td>2.0</td>\n      <td>1.0</td>\n      <td>51.00</td>\n    </tr>\n  </tbody>\n</table>\n</div>"
     },
     "execution_count": 305,
     "metadata": {},
     "output_type": "execute_result"
    }
   ],
   "source": [
    "df = pd.read_csv('Bengaluru_House_Data.csv')\n",
    "print(df.shape)\n",
    "df.head()"
   ],
   "metadata": {
    "collapsed": false,
    "pycharm": {
     "name": "#%%\n"
    }
   }
  },
  {
   "cell_type": "code",
   "execution_count": 306,
   "outputs": [
    {
     "data": {
      "text/plain": "                  area_type   availability               location       size  \\\n13315        Built-up  Area  Ready To Move             Whitefield  5 Bedroom   \n13316  Super built-up  Area  Ready To Move          Richards Town      4 BHK   \n13317        Built-up  Area  Ready To Move  Raja Rajeshwari Nagar      2 BHK   \n13318  Super built-up  Area         18-Jun        Padmanabhanagar      4 BHK   \n13319  Super built-up  Area  Ready To Move           Doddathoguru      1 BHK   \n\n       society total_sqft  bath  balcony  price  \n13315  ArsiaEx       3453   4.0      0.0  231.0  \n13316      NaN       3600   5.0      NaN  400.0  \n13317  Mahla T       1141   2.0      1.0   60.0  \n13318  SollyCl       4689   4.0      1.0  488.0  \n13319      NaN        550   1.0      1.0   17.0  ",
      "text/html": "<div>\n<style scoped>\n    .dataframe tbody tr th:only-of-type {\n        vertical-align: middle;\n    }\n\n    .dataframe tbody tr th {\n        vertical-align: top;\n    }\n\n    .dataframe thead th {\n        text-align: right;\n    }\n</style>\n<table border=\"1\" class=\"dataframe\">\n  <thead>\n    <tr style=\"text-align: right;\">\n      <th></th>\n      <th>area_type</th>\n      <th>availability</th>\n      <th>location</th>\n      <th>size</th>\n      <th>society</th>\n      <th>total_sqft</th>\n      <th>bath</th>\n      <th>balcony</th>\n      <th>price</th>\n    </tr>\n  </thead>\n  <tbody>\n    <tr>\n      <th>13315</th>\n      <td>Built-up  Area</td>\n      <td>Ready To Move</td>\n      <td>Whitefield</td>\n      <td>5 Bedroom</td>\n      <td>ArsiaEx</td>\n      <td>3453</td>\n      <td>4.0</td>\n      <td>0.0</td>\n      <td>231.0</td>\n    </tr>\n    <tr>\n      <th>13316</th>\n      <td>Super built-up  Area</td>\n      <td>Ready To Move</td>\n      <td>Richards Town</td>\n      <td>4 BHK</td>\n      <td>NaN</td>\n      <td>3600</td>\n      <td>5.0</td>\n      <td>NaN</td>\n      <td>400.0</td>\n    </tr>\n    <tr>\n      <th>13317</th>\n      <td>Built-up  Area</td>\n      <td>Ready To Move</td>\n      <td>Raja Rajeshwari Nagar</td>\n      <td>2 BHK</td>\n      <td>Mahla T</td>\n      <td>1141</td>\n      <td>2.0</td>\n      <td>1.0</td>\n      <td>60.0</td>\n    </tr>\n    <tr>\n      <th>13318</th>\n      <td>Super built-up  Area</td>\n      <td>18-Jun</td>\n      <td>Padmanabhanagar</td>\n      <td>4 BHK</td>\n      <td>SollyCl</td>\n      <td>4689</td>\n      <td>4.0</td>\n      <td>1.0</td>\n      <td>488.0</td>\n    </tr>\n    <tr>\n      <th>13319</th>\n      <td>Super built-up  Area</td>\n      <td>Ready To Move</td>\n      <td>Doddathoguru</td>\n      <td>1 BHK</td>\n      <td>NaN</td>\n      <td>550</td>\n      <td>1.0</td>\n      <td>1.0</td>\n      <td>17.0</td>\n    </tr>\n  </tbody>\n</table>\n</div>"
     },
     "execution_count": 306,
     "metadata": {},
     "output_type": "execute_result"
    }
   ],
   "source": [
    "df.tail()"
   ],
   "metadata": {
    "collapsed": false,
    "pycharm": {
     "name": "#%%\n"
    }
   }
  },
  {
   "cell_type": "code",
   "execution_count": 307,
   "outputs": [
    {
     "data": {
      "text/plain": "Super built-up  Area    8790\nBuilt-up  Area          2418\nPlot  Area              2025\nCarpet  Area              87\nName: area_type, dtype: int64"
     },
     "execution_count": 307,
     "metadata": {},
     "output_type": "execute_result"
    }
   ],
   "source": [
    "df.area_type.value_counts()"
   ],
   "metadata": {
    "collapsed": false,
    "pycharm": {
     "name": "#%%\n"
    }
   }
  },
  {
   "cell_type": "code",
   "execution_count": 308,
   "outputs": [
    {
     "name": "stdout",
     "output_type": "stream",
     "text": [
      "1305\n",
      "2688\n"
     ]
    }
   ],
   "source": [
    "print(len(df.location.value_counts()))\n",
    "print(len(df.society.value_counts()))"
   ],
   "metadata": {
    "collapsed": false,
    "pycharm": {
     "name": "#%%\n"
    }
   }
  },
  {
   "cell_type": "code",
   "execution_count": 309,
   "outputs": [
    {
     "data": {
      "text/plain": "<AxesSubplot:>"
     },
     "execution_count": 309,
     "metadata": {},
     "output_type": "execute_result"
    },
    {
     "data": {
      "text/plain": "<Figure size 432x288 with 2 Axes>",
      "image/png": "[encoded data removed]"
     },
     "metadata": {
      "needs_background": "light"
     },
     "output_type": "display_data"
    }
   ],
   "source": [
    "sns.heatmap(df.isna(), cmap='viridis')"
   ],
   "metadata": {
    "collapsed": false,
    "pycharm": {
     "name": "#%%\n"
    }
   }
  },
  {
   "cell_type": "code",
   "execution_count": 310,
   "outputs": [
    {
     "name": "stdout",
     "output_type": "stream",
     "text": [
      "5502\n",
      "609\n"
     ]
    }
   ],
   "source": [
    "print(df.society.isna().sum())\n",
    "print(df.balcony.isna().sum())"
   ],
   "metadata": {
    "collapsed": false,
    "pycharm": {
     "name": "#%%\n"
    }
   }
  },
  {
   "cell_type": "markdown",
   "source": [
    "### Data Cleaning"
   ],
   "metadata": {
    "collapsed": false,
    "pycharm": {
     "name": "#%% md\n"
    }
   }
  },
  {
   "cell_type": "code",
   "execution_count": 311,
   "outputs": [
    {
     "data": {
      "text/plain": "                   location       size total_sqft  bath   price\n0  Electronic City Phase II      2 BHK       1056   2.0   39.07\n1          Chikka Tirupathi  4 Bedroom       2600   5.0  120.00\n2               Uttarahalli      3 BHK       1440   2.0   62.00\n3        Lingadheeranahalli      3 BHK       1521   3.0   95.00\n4                  Kothanur      2 BHK       1200   2.0   51.00",
      "text/html": "<div>\n<style scoped>\n    .dataframe tbody tr th:only-of-type {\n        vertical-align: middle;\n    }\n\n    .dataframe tbody tr th {\n        vertical-align: top;\n    }\n\n    .dataframe thead th {\n        text-align: right;\n    }\n</style>\n<table border=\"1\" class=\"dataframe\">\n  <thead>\n    <tr style=\"text-align: right;\">\n      <th></th>\n      <th>location</th>\n      <th>size</th>\n      <th>total_sqft</th>\n      <th>bath</th>\n      <th>price</th>\n    </tr>\n  </thead>\n  <tbody>\n    <tr>\n      <th>0</th>\n      <td>Electronic City Phase II</td>\n      <td>2 BHK</td>\n      <td>1056</td>\n      <td>2.0</td>\n      <td>39.07</td>\n    </tr>\n    <tr>\n      <th>1</th>\n      <td>Chikka Tirupathi</td>\n      <td>4 Bedroom</td>\n      <td>2600</td>\n      <td>5.0</td>\n      <td>120.00</td>\n    </tr>\n    <tr>\n      <th>2</th>\n      <td>Uttarahalli</td>\n      <td>3 BHK</td>\n      <td>1440</td>\n      <td>2.0</td>\n      <td>62.00</td>\n    </tr>\n    <tr>\n      <th>3</th>\n      <td>Lingadheeranahalli</td>\n      <td>3 BHK</td>\n      <td>1521</td>\n      <td>3.0</td>\n      <td>95.00</td>\n    </tr>\n    <tr>\n      <th>4</th>\n      <td>Kothanur</td>\n      <td>2 BHK</td>\n      <td>1200</td>\n      <td>2.0</td>\n      <td>51.00</td>\n    </tr>\n  </tbody>\n</table>\n</div>"
     },
     "execution_count": 311,
     "metadata": {},
     "output_type": "execute_result"
    }
   ],
   "source": [
    "df0 = df.drop(['area_type','availability','society','balcony'], axis=1)\n",
    "df0.head()"
   ],
   "metadata": {
    "collapsed": false,
    "pycharm": {
     "name": "#%%\n"
    }
   }
  },
  {
   "cell_type": "code",
   "execution_count": 312,
   "outputs": [
    {
     "data": {
      "text/plain": "location       1\nsize          16\ntotal_sqft     0\nbath          73\nprice          0\ndtype: int64"
     },
     "execution_count": 312,
     "metadata": {},
     "output_type": "execute_result"
    }
   ],
   "source": [
    "df0.isna().sum()"
   ],
   "metadata": {
    "collapsed": false,
    "pycharm": {
     "name": "#%%\n"
    }
   }
  },
  {
   "cell_type": "code",
   "execution_count": 313,
   "outputs": [
    {
     "data": {
      "text/plain": "location      0\nsize          0\ntotal_sqft    0\nbath          0\nprice         0\ndtype: int64"
     },
     "execution_count": 313,
     "metadata": {},
     "output_type": "execute_result"
    }
   ],
   "source": [
    "#Drop NaN values\n",
    "df0 = df0.dropna()\n",
    "df0.isna().sum()"
   ],
   "metadata": {
    "collapsed": false,
    "pycharm": {
     "name": "#%%\n"
    }
   }
  },
  {
   "cell_type": "markdown",
   "source": [
    "#### Converting Lakh ₹ to USD $"
   ],
   "metadata": {
    "collapsed": false,
    "pycharm": {
     "name": "#%% md\n"
    }
   }
  },
  {
   "cell_type": "code",
   "execution_count": 314,
   "outputs": [],
   "source": [
    "def lakh_to_usd(n):\n",
    "    currency = 11089.55\n",
    "    return round(n*currency,2)"
   ],
   "metadata": {
    "collapsed": false,
    "pycharm": {
     "name": "#%%\n"
    }
   }
  },
  {
   "cell_type": "code",
   "execution_count": 315,
   "outputs": [],
   "source": [
    "df0.price = df0.price.apply(lakh_to_usd)"
   ],
   "metadata": {
    "collapsed": false,
    "pycharm": {
     "name": "#%%\n"
    }
   }
  },
  {
   "cell_type": "code",
   "execution_count": 316,
   "outputs": [
    {
     "data": {
      "text/plain": "                   location       size total_sqft  bath       price\n0  Electronic City Phase II      2 BHK       1056   2.0   433268.72\n1          Chikka Tirupathi  4 Bedroom       2600   5.0  1330746.00\n2               Uttarahalli      3 BHK       1440   2.0   687552.10\n3        Lingadheeranahalli      3 BHK       1521   3.0  1053507.25\n4                  Kothanur      2 BHK       1200   2.0   565567.05",
      "text/html": "<div>\n<style scoped>\n    .dataframe tbody tr th:only-of-type {\n        vertical-align: middle;\n    }\n\n    .dataframe tbody tr th {\n        vertical-align: top;\n    }\n\n    .dataframe thead th {\n        text-align: right;\n    }\n</style>\n<table border=\"1\" class=\"dataframe\">\n  <thead>\n    <tr style=\"text-align: right;\">\n      <th></th>\n      <th>location</th>\n      <th>size</th>\n      <th>total_sqft</th>\n      <th>bath</th>\n      <th>price</th>\n    </tr>\n  </thead>\n  <tbody>\n    <tr>\n      <th>0</th>\n      <td>Electronic City Phase II</td>\n      <td>2 BHK</td>\n      <td>1056</td>\n      <td>2.0</td>\n      <td>433268.72</td>\n    </tr>\n    <tr>\n      <th>1</th>\n      <td>Chikka Tirupathi</td>\n      <td>4 Bedroom</td>\n      <td>2600</td>\n      <td>5.0</td>\n      <td>1330746.00</td>\n    </tr>\n    <tr>\n      <th>2</th>\n      <td>Uttarahalli</td>\n      <td>3 BHK</td>\n      <td>1440</td>\n      <td>2.0</td>\n      <td>687552.10</td>\n    </tr>\n    <tr>\n      <th>3</th>\n      <td>Lingadheeranahalli</td>\n      <td>3 BHK</td>\n      <td>1521</td>\n      <td>3.0</td>\n      <td>1053507.25</td>\n    </tr>\n    <tr>\n      <th>4</th>\n      <td>Kothanur</td>\n      <td>2 BHK</td>\n      <td>1200</td>\n      <td>2.0</td>\n      <td>565567.05</td>\n    </tr>\n  </tbody>\n</table>\n</div>"
     },
     "execution_count": 316,
     "metadata": {},
     "output_type": "execute_result"
    }
   ],
   "source": [
    "df0.head()"
   ],
   "metadata": {
    "collapsed": false,
    "pycharm": {
     "name": "#%%\n"
    }
   }
  },
  {
   "cell_type": "markdown",
   "source": [
    "#### Converting Square Foot to Meter"
   ],
   "metadata": {
    "collapsed": false,
    "pycharm": {
     "name": "#%% md\n"
    }
   }
  },
  {
   "cell_type": "code",
   "execution_count": 317,
   "outputs": [],
   "source": [
    "def sqft_to_meter(n):\n",
    "    n = float(n)\n",
    "    return round(n/10.764,2)\n",
    "\n",
    "def is_float(x):\n",
    "    try:\n",
    "        float(x)\n",
    "    except:\n",
    "        return False\n",
    "    return True\n",
    "\n",
    "def sqft_to_float(x):\n",
    "    tokens = []\n",
    "    if type(x) != type(float()):\n",
    "        tokens = x.split('-')\n",
    "    if len(tokens) == 2:\n",
    "        return (float(tokens[0])+float(tokens[1]))/2\n",
    "    try:\n",
    "        return float(x)\n",
    "    except:\n",
    "        return None"
   ],
   "metadata": {
    "collapsed": false,
    "pycharm": {
     "name": "#%%\n"
    }
   }
  },
  {
   "cell_type": "code",
   "execution_count": 318,
   "outputs": [
    {
     "data": {
      "text/plain": "                 location   size   total_sqft  bath       price\n30              Yelahanka  4 BHK  2100 - 2850   4.0  2062656.30\n122                Hebbal  4 BHK  3067 - 8156   4.0  5289715.35\n137    8th Phase JP Nagar  2 BHK  1042 - 1105   2.0   598891.15\n165              Sarjapur  2 BHK  1145 - 1340   2.0   482284.53\n188              KR Puram  2 BHK  1015 - 1540   2.0   629886.44\n...                   ...    ...          ...   ...         ...\n12975          Whitefield  2 BHK   850 - 1060   2.0   423509.91\n12990      Talaghattapura  3 BHK  1804 - 2273   3.0  1352925.10\n13059              Harlur  2 BHK  1200 - 1470   2.0   806875.66\n13265               Hoodi  2 BHK  1133 - 1384   2.0   655780.54\n13299          Whitefield  4 BHK  2830 - 2882   5.0  1713335.47\n\n[190 rows x 5 columns]",
      "text/html": "<div>\n<style scoped>\n    .dataframe tbody tr th:only-of-type {\n        vertical-align: middle;\n    }\n\n    .dataframe tbody tr th {\n        vertical-align: top;\n    }\n\n    .dataframe thead th {\n        text-align: right;\n    }\n</style>\n<table border=\"1\" class=\"dataframe\">\n  <thead>\n    <tr style=\"text-align: right;\">\n      <th></th>\n      <th>location</th>\n      <th>size</th>\n      <th>total_sqft</th>\n      <th>bath</th>\n      <th>price</th>\n    </tr>\n  </thead>\n  <tbody>\n    <tr>\n      <th>30</th>\n      <td>Yelahanka</td>\n      <td>4 BHK</td>\n      <td>2100 - 2850</td>\n      <td>4.0</td>\n      <td>2062656.30</td>\n    </tr>\n    <tr>\n      <th>122</th>\n      <td>Hebbal</td>\n      <td>4 BHK</td>\n      <td>3067 - 8156</td>\n      <td>4.0</td>\n      <td>5289715.35</td>\n    </tr>\n    <tr>\n      <th>137</th>\n      <td>8th Phase JP Nagar</td>\n      <td>2 BHK</td>\n      <td>1042 - 1105</td>\n      <td>2.0</td>\n      <td>598891.15</td>\n    </tr>\n    <tr>\n      <th>165</th>\n      <td>Sarjapur</td>\n      <td>2 BHK</td>\n      <td>1145 - 1340</td>\n      <td>2.0</td>\n      <td>482284.53</td>\n    </tr>\n    <tr>\n      <th>188</th>\n      <td>KR Puram</td>\n      <td>2 BHK</td>\n      <td>1015 - 1540</td>\n      <td>2.0</td>\n      <td>629886.44</td>\n    </tr>\n    <tr>\n      <th>...</th>\n      <td>...</td>\n      <td>...</td>\n      <td>...</td>\n      <td>...</td>\n      <td>...</td>\n    </tr>\n    <tr>\n      <th>12975</th>\n      <td>Whitefield</td>\n      <td>2 BHK</td>\n      <td>850 - 1060</td>\n      <td>2.0</td>\n      <td>423509.91</td>\n    </tr>\n    <tr>\n      <th>12990</th>\n      <td>Talaghattapura</td>\n      <td>3 BHK</td>\n      <td>1804 - 2273</td>\n      <td>3.0</td>\n      <td>1352925.10</td>\n    </tr>\n    <tr>\n      <th>13059</th>\n      <td>Harlur</td>\n      <td>2 BHK</td>\n      <td>1200 - 1470</td>\n      <td>2.0</td>\n      <td>806875.66</td>\n    </tr>\n    <tr>\n      <th>13265</th>\n      <td>Hoodi</td>\n      <td>2 BHK</td>\n      <td>1133 - 1384</td>\n      <td>2.0</td>\n      <td>655780.54</td>\n    </tr>\n    <tr>\n      <th>13299</th>\n      <td>Whitefield</td>\n      <td>4 BHK</td>\n      <td>2830 - 2882</td>\n      <td>5.0</td>\n      <td>1713335.47</td>\n    </tr>\n  </tbody>\n</table>\n<p>190 rows × 5 columns</p>\n</div>"
     },
     "execution_count": 318,
     "metadata": {},
     "output_type": "execute_result"
    }
   ],
   "source": [
    "df0[~df0.total_sqft.apply(is_float)]"
   ],
   "metadata": {
    "collapsed": false,
    "pycharm": {
     "name": "#%%\n"
    }
   }
  },
  {
   "cell_type": "code",
   "execution_count": 319,
   "outputs": [],
   "source": [
    "df0.total_sqft = df0.total_sqft.apply(sqft_to_float)\n",
    "df0 = df0.dropna()\n",
    "df0.bath = df0.bath.apply(lambda x: int(x))"
   ],
   "metadata": {
    "collapsed": false,
    "pycharm": {
     "name": "#%%\n"
    }
   }
  },
  {
   "cell_type": "code",
   "execution_count": 320,
   "outputs": [
    {
     "data": {
      "text/plain": "                   location       size  total_sqmeter  bath       price\n0  Electronic City Phase II      2 BHK          98.10     2   433268.72\n1          Chikka Tirupathi  4 Bedroom         241.55     5  1330746.00\n2               Uttarahalli      3 BHK         133.78     2   687552.10\n3        Lingadheeranahalli      3 BHK         141.30     3  1053507.25\n4                  Kothanur      2 BHK         111.48     2   565567.05",
      "text/html": "<div>\n<style scoped>\n    .dataframe tbody tr th:only-of-type {\n        vertical-align: middle;\n    }\n\n    .dataframe tbody tr th {\n        vertical-align: top;\n    }\n\n    .dataframe thead th {\n        text-align: right;\n    }\n</style>\n<table border=\"1\" class=\"dataframe\">\n  <thead>\n    <tr style=\"text-align: right;\">\n      <th></th>\n      <th>location</th>\n      <th>size</th>\n      <th>total_sqmeter</th>\n      <th>bath</th>\n      <th>price</th>\n    </tr>\n  </thead>\n  <tbody>\n    <tr>\n      <th>0</th>\n      <td>Electronic City Phase II</td>\n      <td>2 BHK</td>\n      <td>98.10</td>\n      <td>2</td>\n      <td>433268.72</td>\n    </tr>\n    <tr>\n      <th>1</th>\n      <td>Chikka Tirupathi</td>\n      <td>4 Bedroom</td>\n      <td>241.55</td>\n      <td>5</td>\n      <td>1330746.00</td>\n    </tr>\n    <tr>\n      <th>2</th>\n      <td>Uttarahalli</td>\n      <td>3 BHK</td>\n      <td>133.78</td>\n      <td>2</td>\n      <td>687552.10</td>\n    </tr>\n    <tr>\n      <th>3</th>\n      <td>Lingadheeranahalli</td>\n      <td>3 BHK</td>\n      <td>141.30</td>\n      <td>3</td>\n      <td>1053507.25</td>\n    </tr>\n    <tr>\n      <th>4</th>\n      <td>Kothanur</td>\n      <td>2 BHK</td>\n      <td>111.48</td>\n      <td>2</td>\n      <td>565567.05</td>\n    </tr>\n  </tbody>\n</table>\n</div>"
     },
     "execution_count": 320,
     "metadata": {},
     "output_type": "execute_result"
    }
   ],
   "source": [
    "df0['total_sqmeter'] = df0.total_sqft.apply(sqft_to_meter)\n",
    "df1 = df0.copy()\n",
    "cols = df1.columns.tolist()\n",
    "cols = cols[:2] + cols[-1:] + cols[3:5]\n",
    "df1 = df1[cols]\n",
    "df1.head()"
   ],
   "metadata": {
    "collapsed": false,
    "pycharm": {
     "name": "#%%\n"
    }
   }
  },
  {
   "cell_type": "code",
   "execution_count": 321,
   "outputs": [
    {
     "name": "stdout",
     "output_type": "stream",
     "text": [
      "['2 BHK' '4 Bedroom' '3 BHK' '4 BHK' '6 Bedroom' '3 Bedroom' '1 BHK'\n",
      " '1 RK' '1 Bedroom' '8 Bedroom' '2 Bedroom' '7 Bedroom' '5 BHK' '7 BHK'\n",
      " '6 BHK' '5 Bedroom' '11 BHK' '9 BHK' '9 Bedroom' '27 BHK' '10 Bedroom'\n",
      " '11 Bedroom' '10 BHK' '19 BHK' '16 BHK' '43 Bedroom' '14 BHK' '8 BHK'\n",
      " '12 Bedroom' '13 BHK' '18 Bedroom']\n"
     ]
    }
   ],
   "source": [
    "print(df1['size'].unique())"
   ],
   "metadata": {
    "collapsed": false,
    "pycharm": {
     "name": "#%%\n"
    }
   }
  },
  {
   "cell_type": "code",
   "execution_count": 322,
   "outputs": [],
   "source": [
    "df1['size'] = df1['size'].apply(lambda x: int(x.split(' ')[0]))"
   ],
   "metadata": {
    "collapsed": false,
    "pycharm": {
     "name": "#%%\n"
    }
   }
  },
  {
   "cell_type": "code",
   "execution_count": 323,
   "outputs": [
    {
     "name": "stdout",
     "output_type": "stream",
     "text": [
      "(13200, 5)\n"
     ]
    },
    {
     "data": {
      "text/plain": "                   location  BHK  total_sqmeter  bath       price\n0  Electronic City Phase II    2          98.10     2   433268.72\n1          Chikka Tirupathi    4         241.55     5  1330746.00\n2               Uttarahalli    3         133.78     2   687552.10\n3        Lingadheeranahalli    3         141.30     3  1053507.25\n4                  Kothanur    2         111.48     2   565567.05\n5                Whitefield    2         108.70     2   421402.90\n6          Old Airport Road    4         253.81     4  2262268.20\n7              Rajaji Nagar    4         306.58     4  6653730.00\n8              Marathahalli    3         121.70     3   701414.04\n9              Gandhi Bazar    6          94.76     6  4103133.50",
      "text/html": "<div>\n<style scoped>\n    .dataframe tbody tr th:only-of-type {\n        vertical-align: middle;\n    }\n\n    .dataframe tbody tr th {\n        vertical-align: top;\n    }\n\n    .dataframe thead th {\n        text-align: right;\n    }\n</style>\n<table border=\"1\" class=\"dataframe\">\n  <thead>\n    <tr style=\"text-align: right;\">\n      <th></th>\n      <th>location</th>\n      <th>BHK</th>\n      <th>total_sqmeter</th>\n      <th>bath</th>\n      <th>price</th>\n    </tr>\n  </thead>\n  <tbody>\n    <tr>\n      <th>0</th>\n      <td>Electronic City Phase II</td>\n      <td>2</td>\n      <td>98.10</td>\n      <td>2</td>\n      <td>433268.72</td>\n    </tr>\n    <tr>\n      <th>1</th>\n      <td>Chikka Tirupathi</td>\n      <td>4</td>\n      <td>241.55</td>\n      <td>5</td>\n      <td>1330746.00</td>\n    </tr>\n    <tr>\n      <th>2</th>\n      <td>Uttarahalli</td>\n      <td>3</td>\n      <td>133.78</td>\n      <td>2</td>\n      <td>687552.10</td>\n    </tr>\n    <tr>\n      <th>3</th>\n      <td>Lingadheeranahalli</td>\n      <td>3</td>\n      <td>141.30</td>\n      <td>3</td>\n      <td>1053507.25</td>\n    </tr>\n    <tr>\n      <th>4</th>\n      <td>Kothanur</td>\n      <td>2</td>\n      <td>111.48</td>\n      <td>2</td>\n      <td>565567.05</td>\n    </tr>\n    <tr>\n      <th>5</th>\n      <td>Whitefield</td>\n      <td>2</td>\n      <td>108.70</td>\n      <td>2</td>\n      <td>421402.90</td>\n    </tr>\n    <tr>\n      <th>6</th>\n      <td>Old Airport Road</td>\n      <td>4</td>\n      <td>253.81</td>\n      <td>4</td>\n      <td>2262268.20</td>\n    </tr>\n    <tr>\n      <th>7</th>\n      <td>Rajaji Nagar</td>\n      <td>4</td>\n      <td>306.58</td>\n      <td>4</td>\n      <td>6653730.00</td>\n    </tr>\n    <tr>\n      <th>8</th>\n      <td>Marathahalli</td>\n      <td>3</td>\n      <td>121.70</td>\n      <td>3</td>\n      <td>701414.04</td>\n    </tr>\n    <tr>\n      <th>9</th>\n      <td>Gandhi Bazar</td>\n      <td>6</td>\n      <td>94.76</td>\n      <td>6</td>\n      <td>4103133.50</td>\n    </tr>\n  </tbody>\n</table>\n</div>"
     },
     "execution_count": 323,
     "metadata": {},
     "output_type": "execute_result"
    }
   ],
   "source": [
    "df1.rename(columns={'size':'BHK'}, inplace=True)\n",
    "print(df1.shape)\n",
    "df1.head(10)"
   ],
   "metadata": {
    "collapsed": false,
    "pycharm": {
     "name": "#%%\n"
    }
   }
  },
  {
   "cell_type": "markdown",
   "source": [
    "### Feature Engineering"
   ],
   "metadata": {
    "collapsed": false,
    "pycharm": {
     "name": "#%% md\n"
    }
   }
  },
  {
   "cell_type": "code",
   "execution_count": 324,
   "outputs": [
    {
     "data": {
      "text/plain": "                   location  BHK  total_sqmeter  bath       price  \\\n0  Electronic City Phase II    2          98.10     2   433268.72   \n1          Chikka Tirupathi    4         241.55     5  1330746.00   \n2               Uttarahalli    3         133.78     2   687552.10   \n3        Lingadheeranahalli    3         141.30     3  1053507.25   \n4                  Kothanur    2         111.48     2   565567.05   \n\n   price_per_sqmeter  \n0        4416.602650  \n1        5509.194784  \n2        5139.423681  \n3        7455.819179  \n4        5073.260226  ",
      "text/html": "<div>\n<style scoped>\n    .dataframe tbody tr th:only-of-type {\n        vertical-align: middle;\n    }\n\n    .dataframe tbody tr th {\n        vertical-align: top;\n    }\n\n    .dataframe thead th {\n        text-align: right;\n    }\n</style>\n<table border=\"1\" class=\"dataframe\">\n  <thead>\n    <tr style=\"text-align: right;\">\n      <th></th>\n      <th>location</th>\n      <th>BHK</th>\n      <th>total_sqmeter</th>\n      <th>bath</th>\n      <th>price</th>\n      <th>price_per_sqmeter</th>\n    </tr>\n  </thead>\n  <tbody>\n    <tr>\n      <th>0</th>\n      <td>Electronic City Phase II</td>\n      <td>2</td>\n      <td>98.10</td>\n      <td>2</td>\n      <td>433268.72</td>\n      <td>4416.602650</td>\n    </tr>\n    <tr>\n      <th>1</th>\n      <td>Chikka Tirupathi</td>\n      <td>4</td>\n      <td>241.55</td>\n      <td>5</td>\n      <td>1330746.00</td>\n      <td>5509.194784</td>\n    </tr>\n    <tr>\n      <th>2</th>\n      <td>Uttarahalli</td>\n      <td>3</td>\n      <td>133.78</td>\n      <td>2</td>\n      <td>687552.10</td>\n      <td>5139.423681</td>\n    </tr>\n    <tr>\n      <th>3</th>\n      <td>Lingadheeranahalli</td>\n      <td>3</td>\n      <td>141.30</td>\n      <td>3</td>\n      <td>1053507.25</td>\n      <td>7455.819179</td>\n    </tr>\n    <tr>\n      <th>4</th>\n      <td>Kothanur</td>\n      <td>2</td>\n      <td>111.48</td>\n      <td>2</td>\n      <td>565567.05</td>\n      <td>5073.260226</td>\n    </tr>\n  </tbody>\n</table>\n</div>"
     },
     "execution_count": 324,
     "metadata": {},
     "output_type": "execute_result"
    }
   ],
   "source": [
    "df2 = df1.copy()\n",
    "#Adding new feature 'price_per_sqmeter'\n",
    "df2['price_per_sqmeter'] = df2.price/df2.total_sqmeter\n",
    "df2.head()"
   ],
   "metadata": {
    "collapsed": false,
    "pycharm": {
     "name": "#%%\n"
    }
   }
  },
  {
   "cell_type": "code",
   "execution_count": 353,
   "outputs": [
    {
     "name": "stdout",
     "output_type": "stream",
     "text": [
      "1298\n"
     ]
    },
    {
     "data": {
      "text/plain": "Whitefield                            532\nSarjapur  Road                        392\nElectronic City                       302\nKanakpura Road                        264\nThanisandra                           232\n                                     ... \nCHIKKATIRUPATHI                         1\nSARJAPUR BAGALUR ROAD                   1\nKengeri Satellite Town ( BDA SITE)      1\nMuthyala Nagar                          1\nVidyapeeta                              1\nName: location, Length: 1298, dtype: int64"
     },
     "execution_count": 353,
     "metadata": {},
     "output_type": "execute_result"
    }
   ],
   "source": [
    "print(len(df2.location.unique()))\n",
    "df2.location.value_counts()"
   ],
   "metadata": {
    "collapsed": false,
    "pycharm": {
     "name": "#%%\n"
    }
   }
  },
  {
   "cell_type": "code",
   "execution_count": 354,
   "outputs": [
    {
     "data": {
      "text/plain": "1058"
     },
     "execution_count": 354,
     "metadata": {},
     "output_type": "execute_result"
    }
   ],
   "source": [
    "locations_stats = df2['location'].value_counts()\n",
    "#Reducing the number of location by grouping the locations counted less than 10 times\n",
    "locations_stats_less_than_10 = locations_stats[locations_stats<=10]\n",
    "len(locations_stats_less_than_10)"
   ],
   "metadata": {
    "collapsed": false,
    "pycharm": {
     "name": "#%%\n"
    }
   }
  },
  {
   "cell_type": "code",
   "execution_count": 355,
   "outputs": [
    {
     "data": {
      "text/plain": "241"
     },
     "execution_count": 355,
     "metadata": {},
     "output_type": "execute_result"
    }
   ],
   "source": [
    "df2.location = df2.location.apply(lambda x: 'other' if x in locations_stats_less_than_10 else x)\n",
    "len(df2.location.unique())"
   ],
   "metadata": {
    "collapsed": false,
    "pycharm": {
     "name": "#%%\n"
    }
   }
  },
  {
   "cell_type": "code",
   "execution_count": 358,
   "outputs": [
    {
     "data": {
      "text/plain": "                   location  BHK  total_sqmeter  bath       price  \\\n0  Electronic City Phase II    2          98.10     2   433268.72   \n1          Chikka Tirupathi    4         241.55     5  1330746.00   \n2               Uttarahalli    3         133.78     2   687552.10   \n3        Lingadheeranahalli    3         141.30     3  1053507.25   \n4                  Kothanur    2         111.48     2   565567.05   \n5                Whitefield    2         108.70     2   421402.90   \n6          Old Airport Road    4         253.81     4  2262268.20   \n7              Rajaji Nagar    4         306.58     4  6653730.00   \n8              Marathahalli    3         121.70     3   701414.04   \n9                     other    6          94.76     6  4103133.50   \n\n   price_per_sqmeter  \n0        4416.602650  \n1        5509.194784  \n2        5139.423681  \n3        7455.819179  \n4        5073.260226  \n5        3876.751610  \n6        8913.235097  \n7       21703.079131  \n8        5763.467872  \n9       43300.269101  ",
      "text/html": "<div>\n<style scoped>\n    .dataframe tbody tr th:only-of-type {\n        vertical-align: middle;\n    }\n\n    .dataframe tbody tr th {\n        vertical-align: top;\n    }\n\n    .dataframe thead th {\n        text-align: right;\n    }\n</style>\n<table border=\"1\" class=\"dataframe\">\n  <thead>\n    <tr style=\"text-align: right;\">\n      <th></th>\n      <th>location</th>\n      <th>BHK</th>\n      <th>total_sqmeter</th>\n      <th>bath</th>\n      <th>price</th>\n      <th>price_per_sqmeter</th>\n    </tr>\n  </thead>\n  <tbody>\n    <tr>\n      <th>0</th>\n      <td>Electronic City Phase II</td>\n      <td>2</td>\n      <td>98.10</td>\n      <td>2</td>\n      <td>433268.72</td>\n      <td>4416.602650</td>\n    </tr>\n    <tr>\n      <th>1</th>\n      <td>Chikka Tirupathi</td>\n      <td>4</td>\n      <td>241.55</td>\n      <td>5</td>\n      <td>1330746.00</td>\n      <td>5509.194784</td>\n    </tr>\n    <tr>\n      <th>2</th>\n      <td>Uttarahalli</td>\n      <td>3</td>\n      <td>133.78</td>\n      <td>2</td>\n      <td>687552.10</td>\n      <td>5139.423681</td>\n    </tr>\n    <tr>\n      <th>3</th>\n      <td>Lingadheeranahalli</td>\n      <td>3</td>\n      <td>141.30</td>\n      <td>3</td>\n      <td>1053507.25</td>\n      <td>7455.819179</td>\n    </tr>\n    <tr>\n      <th>4</th>\n      <td>Kothanur</td>\n      <td>2</td>\n      <td>111.48</td>\n      <td>2</td>\n      <td>565567.05</td>\n      <td>5073.260226</td>\n    </tr>\n    <tr>\n      <th>5</th>\n      <td>Whitefield</td>\n      <td>2</td>\n      <td>108.70</td>\n      <td>2</td>\n      <td>421402.90</td>\n      <td>3876.751610</td>\n    </tr>\n    <tr>\n      <th>6</th>\n      <td>Old Airport Road</td>\n      <td>4</td>\n      <td>253.81</td>\n      <td>4</td>\n      <td>2262268.20</td>\n      <td>8913.235097</td>\n    </tr>\n    <tr>\n      <th>7</th>\n      <td>Rajaji Nagar</td>\n      <td>4</td>\n      <td>306.58</td>\n      <td>4</td>\n      <td>6653730.00</td>\n      <td>21703.079131</td>\n    </tr>\n    <tr>\n      <th>8</th>\n      <td>Marathahalli</td>\n      <td>3</td>\n      <td>121.70</td>\n      <td>3</td>\n      <td>701414.04</td>\n      <td>5763.467872</td>\n    </tr>\n    <tr>\n      <th>9</th>\n      <td>other</td>\n      <td>6</td>\n      <td>94.76</td>\n      <td>6</td>\n      <td>4103133.50</td>\n      <td>43300.269101</td>\n    </tr>\n  </tbody>\n</table>\n</div>"
     },
     "execution_count": 358,
     "metadata": {},
     "output_type": "execute_result"
    }
   ],
   "source": [
    "df2.head(10)"
   ],
   "metadata": {
    "collapsed": false,
    "pycharm": {
     "name": "#%%\n"
    }
   }
  }
 ],
 "metadata": {
  "kernelspec": {
   "name": "python3",
   "language": "python",
   "display_name": "Python 3"
  },
  "language_info": {
   "codemirror_mode": {
    "name": "ipython",
    "version": 2
   },
   "file_extension": ".py",
   "mimetype": "text/x-python",
   "name": "python",
   "nbconvert_exporter": "python",
   "pygments_lexer": "ipython2",
   "version": "2.7.6"
  }
 },
 "nbformat": 4,
 "nbformat_minor": 0
}